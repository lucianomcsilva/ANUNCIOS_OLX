{
  "nbformat": 4,
  "nbformat_minor": 0,
  "metadata": {
    "colab": {
      "name": "Untitled12.ipynb",
      "provenance": [],
      "authorship_tag": "ABX9TyNonFF0Glmgi4KzNbxPMHWE",
      "include_colab_link": true
    },
    "kernelspec": {
      "name": "python3",
      "display_name": "Python 3"
    },
    "language_info": {
      "name": "python"
    }
  },
  "cells": [
    {
      "cell_type": "markdown",
      "metadata": {
        "id": "view-in-github",
        "colab_type": "text"
      },
      "source": [
        "<a href=\"https://colab.research.google.com/github/lucianomcsilva/ANUNCIOS_OLX/blob/main/%5BRIWRS%5D%20TFIDF.ipynb\" target=\"_parent\"><img src=\"https://colab.research.google.com/assets/colab-badge.svg\" alt=\"Open In Colab\"/></a>"
      ]
    },
    {
      "cell_type": "code",
      "source": [
        "!pip install wikipedia"
      ],
      "metadata": {
        "colab": {
          "base_uri": "https://localhost:8080/"
        },
        "id": "LdtDL5KDFoRW",
        "outputId": "aa48ed26-73cd-4419-a51c-efbcd276aaa3"
      },
      "execution_count": 2,
      "outputs": [
        {
          "output_type": "stream",
          "name": "stdout",
          "text": [
            "Looking in indexes: https://pypi.org/simple, https://us-python.pkg.dev/colab-wheels/public/simple/\n",
            "Collecting wikipedia\n",
            "  Downloading wikipedia-1.4.0.tar.gz (27 kB)\n",
            "Requirement already satisfied: beautifulsoup4 in /usr/local/lib/python3.7/dist-packages (from wikipedia) (4.6.3)\n",
            "Requirement already satisfied: requests<3.0.0,>=2.0.0 in /usr/local/lib/python3.7/dist-packages (from wikipedia) (2.23.0)\n",
            "Requirement already satisfied: urllib3!=1.25.0,!=1.25.1,<1.26,>=1.21.1 in /usr/local/lib/python3.7/dist-packages (from requests<3.0.0,>=2.0.0->wikipedia) (1.24.3)\n",
            "Requirement already satisfied: idna<3,>=2.5 in /usr/local/lib/python3.7/dist-packages (from requests<3.0.0,>=2.0.0->wikipedia) (2.10)\n",
            "Requirement already satisfied: certifi>=2017.4.17 in /usr/local/lib/python3.7/dist-packages (from requests<3.0.0,>=2.0.0->wikipedia) (2022.5.18.1)\n",
            "Requirement already satisfied: chardet<4,>=3.0.2 in /usr/local/lib/python3.7/dist-packages (from requests<3.0.0,>=2.0.0->wikipedia) (3.0.4)\n",
            "Building wheels for collected packages: wikipedia\n",
            "  Building wheel for wikipedia (setup.py) ... \u001b[?25l\u001b[?25hdone\n",
            "  Created wheel for wikipedia: filename=wikipedia-1.4.0-py3-none-any.whl size=11695 sha256=bd15cb055e2b741f105aff9944a26af61ff0b4c995df8cbad5988a4cbdd05991\n",
            "  Stored in directory: /root/.cache/pip/wheels/15/93/6d/5b2c68b8a64c7a7a04947b4ed6d89fb557dcc6bc27d1d7f3ba\n",
            "Successfully built wikipedia\n",
            "Installing collected packages: wikipedia\n",
            "Successfully installed wikipedia-1.4.0\n"
          ]
        }
      ]
    },
    {
      "cell_type": "code",
      "execution_count": 13,
      "metadata": {
        "colab": {
          "base_uri": "https://localhost:8080/",
          "height": 1000
        },
        "id": "wOtqvHIVFh1I",
        "outputId": "5f398a64-e8b0-49c2-f74a-21b5d3ed4b41"
      },
      "outputs": [
        {
          "output_type": "stream",
          "name": "stdout",
          "text": [
            "   Processing page The Tigger Movie 2000...\n",
            "   Processing page Dinosaur 2000 Movie...\n",
            "   Processing page The Emperor's New Groove 2000...\n",
            "   Processing page Recess School's Out...\n",
            "   Processing page Atlantis: The Lost Empire...\n",
            "   Processing page Monsters, Inc...\n",
            "   Processing page Return to Never Land...\n",
            "   Processing page Lilo & Stitch...\n",
            "   Processing page Treasure Planet 2002...\n",
            "   Processing page The Jungle Book 2 2003...\n",
            "   Processing page Piglet's Big Movie 2003...\n",
            "   Processing page Finding Nemo 2003...\n",
            "   Processing page Brother Bear 2003...\n",
            "   Processing page Teacher's Pet 2004...\n",
            "   Processing page Home on the Range 2004...\n",
            "   Processing page The Incredibles 2004...\n",
            "   Processing page Pooh's Heffalump Movie 2005...\n",
            "   Processing page Valiant 2005...\n",
            "   Processing page Chicken Little 2005...\n",
            "   Processing page The Wild 2006...\n",
            "   Processing page The Nightmare Before Christmas...\n",
            "   Processing page Meet the Robinsons 2007...\n",
            "   Processing page Ratatouille 2007...\n",
            "   Processing page WALL-E 2008...\n",
            "   Processing page Roadside Romeo 2008...\n",
            "   Processing page Bolt 2008...\n",
            "   Processing page Up 2009...\n",
            "   Processing page A Christmas Carol 2009...\n",
            "   Processing page The Princess and the Frog 2009...\n",
            "   Processing page Toy Story 2...\n",
            "   Processing page Toy Story 3...\n",
            "   Processing page Tangled...\n",
            "   Processing page Moana 2016...\n",
            "   Processing page Cars 3...\n",
            "   Processing page Coco 2017 film...\n",
            "   Processing page Incredibles 2...\n",
            "All pages processed\n",
            "vocabulary size: 9626\n"
          ]
        },
        {
          "output_type": "error",
          "ename": "KeyError",
          "evalue": "ignored",
          "traceback": [
            "\u001b[0;31m---------------------------------------------------------------------------\u001b[0m",
            "\u001b[0;31mKeyError\u001b[0m                                  Traceback (most recent call last)",
            "\u001b[0;32m<ipython-input-13-7a1344b0a5ae>\u001b[0m in \u001b[0;36m<module>\u001b[0;34m()\u001b[0m\n\u001b[1;32m     90\u001b[0m   \u001b[0mprint\u001b[0m\u001b[0;34m(\u001b[0m\u001b[0;34m\"Higher TF-IDF: {}\"\u001b[0m\u001b[0;34m.\u001b[0m\u001b[0mformat\u001b[0m\u001b[0;34m(\u001b[0m\u001b[0msorted_tfidf\u001b[0m\u001b[0;34m[\u001b[0m\u001b[0;34m:\u001b[0m\u001b[0mnum_words\u001b[0m\u001b[0;34m]\u001b[0m\u001b[0;34m)\u001b[0m\u001b[0;34m)\u001b[0m\u001b[0;34m\u001b[0m\u001b[0;34m\u001b[0m\u001b[0m\n\u001b[1;32m     91\u001b[0m \u001b[0;34m\u001b[0m\u001b[0m\n\u001b[0;32m---> 92\u001b[0;31m \u001b[0manalyze_page\u001b[0m\u001b[0;34m(\u001b[0m\u001b[0;34m\"Moana\"\u001b[0m\u001b[0;34m)\u001b[0m\u001b[0;34m\u001b[0m\u001b[0;34m\u001b[0m\u001b[0m\n\u001b[0m\u001b[1;32m     93\u001b[0m \u001b[0manalyze_page\u001b[0m\u001b[0;34m(\u001b[0m\u001b[0;34m\"The Incredibles 2004\"\u001b[0m\u001b[0;34m)\u001b[0m\u001b[0;34m\u001b[0m\u001b[0;34m\u001b[0m\u001b[0m\n\u001b[1;32m     94\u001b[0m \u001b[0manalyze_page\u001b[0m\u001b[0;34m(\u001b[0m\u001b[0;34m\"Monsters, Inc\"\u001b[0m\u001b[0;34m)\u001b[0m\u001b[0;34m\u001b[0m\u001b[0;34m\u001b[0m\u001b[0m\n",
            "\u001b[0;32m<ipython-input-13-7a1344b0a5ae>\u001b[0m in \u001b[0;36manalyze_page\u001b[0;34m(target_page)\u001b[0m\n\u001b[1;32m     77\u001b[0m   tfidf =  {\n\u001b[1;32m     78\u001b[0m     \u001b[0mword\u001b[0m\u001b[0;34m:\u001b[0m \u001b[0;34m(\u001b[0m\u001b[0;36m1\u001b[0m \u001b[0;34m+\u001b[0m \u001b[0mmath\u001b[0m\u001b[0;34m.\u001b[0m\u001b[0mlog\u001b[0m\u001b[0;34m(\u001b[0m\u001b[0m_tf\u001b[0m\u001b[0;34m,\u001b[0m \u001b[0;36m2\u001b[0m\u001b[0;34m)\u001b[0m\u001b[0;34m)\u001b[0m \u001b[0;34m*\u001b[0m \u001b[0midf\u001b[0m\u001b[0;34m[\u001b[0m\u001b[0mword\u001b[0m\u001b[0;34m]\u001b[0m\u001b[0;34m\u001b[0m\u001b[0;34m\u001b[0m\u001b[0m\n\u001b[0;32m---> 79\u001b[0;31m     \u001b[0;32mfor\u001b[0m \u001b[0mword\u001b[0m\u001b[0;34m,\u001b[0m \u001b[0m_tf\u001b[0m \u001b[0;32min\u001b[0m \u001b[0mCounter\u001b[0m\u001b[0;34m(\u001b[0m\u001b[0mtarget_words\u001b[0m\u001b[0;34m)\u001b[0m\u001b[0;34m.\u001b[0m\u001b[0mitems\u001b[0m\u001b[0;34m(\u001b[0m\u001b[0;34m)\u001b[0m\u001b[0;34m\u001b[0m\u001b[0;34m\u001b[0m\u001b[0m\n\u001b[0m\u001b[1;32m     80\u001b[0m   }\n\u001b[1;32m     81\u001b[0m   \u001b[0mnum_words\u001b[0m \u001b[0;34m=\u001b[0m \u001b[0;36m20\u001b[0m\u001b[0;34m\u001b[0m\u001b[0;34m\u001b[0m\u001b[0m\n",
            "\u001b[0;32m<ipython-input-13-7a1344b0a5ae>\u001b[0m in \u001b[0;36m<dictcomp>\u001b[0;34m(.0)\u001b[0m\n\u001b[1;32m     77\u001b[0m   tfidf =  {\n\u001b[1;32m     78\u001b[0m     \u001b[0mword\u001b[0m\u001b[0;34m:\u001b[0m \u001b[0;34m(\u001b[0m\u001b[0;36m1\u001b[0m \u001b[0;34m+\u001b[0m \u001b[0mmath\u001b[0m\u001b[0;34m.\u001b[0m\u001b[0mlog\u001b[0m\u001b[0;34m(\u001b[0m\u001b[0m_tf\u001b[0m\u001b[0;34m,\u001b[0m \u001b[0;36m2\u001b[0m\u001b[0;34m)\u001b[0m\u001b[0;34m)\u001b[0m \u001b[0;34m*\u001b[0m \u001b[0midf\u001b[0m\u001b[0;34m[\u001b[0m\u001b[0mword\u001b[0m\u001b[0;34m]\u001b[0m\u001b[0;34m\u001b[0m\u001b[0;34m\u001b[0m\u001b[0m\n\u001b[0;32m---> 79\u001b[0;31m     \u001b[0;32mfor\u001b[0m \u001b[0mword\u001b[0m\u001b[0;34m,\u001b[0m \u001b[0m_tf\u001b[0m \u001b[0;32min\u001b[0m \u001b[0mCounter\u001b[0m\u001b[0;34m(\u001b[0m\u001b[0mtarget_words\u001b[0m\u001b[0;34m)\u001b[0m\u001b[0;34m.\u001b[0m\u001b[0mitems\u001b[0m\u001b[0;34m(\u001b[0m\u001b[0;34m)\u001b[0m\u001b[0;34m\u001b[0m\u001b[0;34m\u001b[0m\u001b[0m\n\u001b[0m\u001b[1;32m     80\u001b[0m   }\n\u001b[1;32m     81\u001b[0m   \u001b[0mnum_words\u001b[0m \u001b[0;34m=\u001b[0m \u001b[0;36m20\u001b[0m\u001b[0;34m\u001b[0m\u001b[0;34m\u001b[0m\u001b[0m\n",
            "\u001b[0;31mKeyError\u001b[0m: 'paralanguage'"
          ]
        }
      ],
      "source": [
        "# Install dependencies first\n",
        "#     pip install spacy wikipedia\n",
        "#     python -m spacy download en\n",
        "# Run\n",
        "#     python tfidf.py\n",
        "\n",
        "from collections import Counter\n",
        "import math\n",
        "\n",
        "import wikipedia\n",
        "import spacy\n",
        "\n",
        "nlp = spacy.load('en')\n",
        "\n",
        "pages = [\n",
        "  \"The Tigger Movie 2000\", \"Dinosaur 2000 Movie\", \"The Emperor's New Groove 2000\", \"Recess School's Out\", \"Atlantis: The Lost Empire\", \"Monsters, Inc\", \"Return to Never Land\", \n",
        "  \"Lilo & Stitch\", \"Treasure Planet 2002\", \"The Jungle Book 2 2003\", \"Piglet's Big Movie 2003\", \n",
        "  \"Finding Nemo 2003\", \"Brother Bear 2003\", \"Teacher's Pet 2004\", \"Home on the Range 2004\", \"The Incredibles 2004\", \"Pooh's Heffalump Movie 2005\", \"Valiant 2005\", \n",
        "  \"Chicken Little 2005\", \"The Wild 2006\", \"The Nightmare Before Christmas\", \n",
        "  # \"Cars 2006\", \n",
        "  \"Meet the Robinsons 2007\", \"Ratatouille 2007\", \"WALL-E 2008\", \"Roadside Romeo 2008\", \"Bolt 2008\", \"Up 2009\", \"A Christmas Carol 2009\", \"The Princess and the Frog 2009\", \n",
        "  #\"Toy Story\", \n",
        "  \"Toy Story 2\", \"Toy Story 3\", \"Tangled\", \n",
        "  #\"Mars Needs Moms\", \"Cars 2\", \"Winnie the Pooh 2011\", \"Arjun: The Warrior Prince\", \"Brave 2012\", \"Frankenweenie\", \n",
        "  #\"Wreck-It Ralph\", \"Monsters University\", \"Planes film\", \"Frozen 2013\", \"Planes: Fire & Rescue\", \"Big Hero 6\", \"Inside Out\", \"The Good Dinosaur\", \"Zootopia\", \"Finding Dory\", \n",
        "  #\n",
        "  \"Moana 2016\", \"Cars 3\", \"Coco 2017 film\", \"Incredibles 2\",\n",
        "  #\"Shrek\", \"Shrek 2\", \"Shrek 3\", \"Antz\", \"A bugs life\", \"Bee movie\", \"Madagascar 2005 film\", \"Madagascar 2\", \"Kung fu panda\", \"Kung fu panda 2\",\"Kung fu panda 3\",\n",
        "]\n",
        "# pages = [\n",
        "#   \"Moana\", 'The Incredibles 2004', 'Monsters, Inc'\n",
        "# ]\n",
        "\n",
        "def valid_token(tk):\n",
        "    is_valid = tk.is_alpha\n",
        "    return is_valid and not tk.is_stop\n",
        "\n",
        "def get_lemma(tk):\n",
        "    if tk.pos_ == 'PRON' or tk.lemma_ == '-PRON-':\n",
        "        return tk.text.lower()\n",
        "    return tk.lemma_.lower()\n",
        "\n",
        "def read_wikipedia_page(page_name):\n",
        "    page = wikipedia.page(page_name)\n",
        "    content = page.content\n",
        "    return content\n",
        "\n",
        "def tokenize_page(page_name):\n",
        "  text = read_wikipedia_page(page_name)\n",
        "  return [\n",
        "    get_lemma(t)\n",
        "    for t in nlp(text)\n",
        "    if valid_token(t)\n",
        "  ]\n",
        "\n",
        "vocabulary = set()\n",
        "idf_counter = Counter()\n",
        "\n",
        "for page in pages:\n",
        "  print(\"   Processing page {}...\".format(page))\n",
        "  page_words = set(tokenize_page(page))\n",
        "  vocabulary = vocabulary | page_words\n",
        "  idf_counter.update(page_words)\n",
        "\n",
        "print(\"All pages processed\")\n",
        "\n",
        "idf = {\n",
        "  word: math.log(len(pages)/df, 2)\n",
        "  for word, df in idf_counter.items()\n",
        "}\n",
        "\n",
        "print(\"vocabulary size: {}\".format(len(vocabulary)))\n",
        "\n",
        "\n",
        "def analyze_page(target_page):\n",
        "  target_words = tokenize_page(target_page)\n",
        "  tfidf =  {\n",
        "    word: (1 + math.log(_tf, 2)) * idf[word]\n",
        "    for word, _tf in Counter(target_words).items()\n",
        "  }\n",
        "  num_words = 20\n",
        "  most_frequent = [\n",
        "    w  for (w, _) in Counter(target_words).most_common(num_words)\n",
        "  ]\n",
        "  sorted_tfidf = [\n",
        "    w  for (w, _) in sorted(tfidf.items(), key=lambda kv: kv[1], reverse=True)\n",
        "  ]\n",
        "  print(target_page)\n",
        "  print(\"Most frequent: {}\".format(most_frequent))\n",
        "  print(\"Higher TF-IDF: {}\".format(sorted_tfidf[:num_words]))\n",
        "\n",
        "analyze_page(\"Moana\")\n",
        "analyze_page(\"The Incredibles 2004\")\n",
        "analyze_page(\"Monsters, Inc\")"
      ]
    },
    {
      "cell_type": "code",
      "source": [
        ""
      ],
      "metadata": {
        "colab": {
          "base_uri": "https://localhost:8080/",
          "height": 345
        },
        "id": "k8F-APkCGPlC",
        "outputId": "2032ae0f-8bb8-45a3-9f41-51fe4400906e"
      },
      "execution_count": 12,
      "outputs": [
        {
          "output_type": "error",
          "ename": "KeyError",
          "evalue": "ignored",
          "traceback": [
            "\u001b[0;31m---------------------------------------------------------------------------\u001b[0m",
            "\u001b[0;31mKeyError\u001b[0m                                  Traceback (most recent call last)",
            "\u001b[0;32m<ipython-input-12-970efcfb0371>\u001b[0m in \u001b[0;36m<module>\u001b[0;34m()\u001b[0m\n\u001b[0;32m----> 1\u001b[0;31m \u001b[0manalyze_page\u001b[0m\u001b[0;34m(\u001b[0m\u001b[0;34m\"Moana\"\u001b[0m\u001b[0;34m)\u001b[0m\u001b[0;34m\u001b[0m\u001b[0;34m\u001b[0m\u001b[0m\n\u001b[0m\u001b[1;32m      2\u001b[0m \u001b[0manalyze_page\u001b[0m\u001b[0;34m(\u001b[0m\u001b[0;34m\"The Incredibles 2004\"\u001b[0m\u001b[0;34m)\u001b[0m\u001b[0;34m\u001b[0m\u001b[0;34m\u001b[0m\u001b[0m\n\u001b[1;32m      3\u001b[0m \u001b[0manalyze_page\u001b[0m\u001b[0;34m(\u001b[0m\u001b[0;34m\"Monsters, Inc\"\u001b[0m\u001b[0;34m)\u001b[0m\u001b[0;34m\u001b[0m\u001b[0;34m\u001b[0m\u001b[0m\n",
            "\u001b[0;32m<ipython-input-9-7b3bc025efb6>\u001b[0m in \u001b[0;36manalyze_page\u001b[0;34m(target_page)\u001b[0m\n\u001b[1;32m     77\u001b[0m   tfidf =  {\n\u001b[1;32m     78\u001b[0m     \u001b[0mword\u001b[0m\u001b[0;34m:\u001b[0m \u001b[0;34m(\u001b[0m\u001b[0;36m1\u001b[0m \u001b[0;34m+\u001b[0m \u001b[0mmath\u001b[0m\u001b[0;34m.\u001b[0m\u001b[0mlog\u001b[0m\u001b[0;34m(\u001b[0m\u001b[0m_tf\u001b[0m\u001b[0;34m,\u001b[0m \u001b[0;36m2\u001b[0m\u001b[0;34m)\u001b[0m\u001b[0;34m)\u001b[0m \u001b[0;34m*\u001b[0m \u001b[0midf\u001b[0m\u001b[0;34m[\u001b[0m\u001b[0mword\u001b[0m\u001b[0;34m]\u001b[0m\u001b[0;34m\u001b[0m\u001b[0;34m\u001b[0m\u001b[0m\n\u001b[0;32m---> 79\u001b[0;31m     \u001b[0;32mfor\u001b[0m \u001b[0mword\u001b[0m\u001b[0;34m,\u001b[0m \u001b[0m_tf\u001b[0m \u001b[0;32min\u001b[0m \u001b[0mCounter\u001b[0m\u001b[0;34m(\u001b[0m\u001b[0mtarget_words\u001b[0m\u001b[0;34m)\u001b[0m\u001b[0;34m.\u001b[0m\u001b[0mitems\u001b[0m\u001b[0;34m(\u001b[0m\u001b[0;34m)\u001b[0m\u001b[0;34m\u001b[0m\u001b[0;34m\u001b[0m\u001b[0m\n\u001b[0m\u001b[1;32m     80\u001b[0m   }\n\u001b[1;32m     81\u001b[0m   \u001b[0mnum_words\u001b[0m \u001b[0;34m=\u001b[0m \u001b[0;36m20\u001b[0m\u001b[0;34m\u001b[0m\u001b[0;34m\u001b[0m\u001b[0m\n",
            "\u001b[0;32m<ipython-input-9-7b3bc025efb6>\u001b[0m in \u001b[0;36m<dictcomp>\u001b[0;34m(.0)\u001b[0m\n\u001b[1;32m     77\u001b[0m   tfidf =  {\n\u001b[1;32m     78\u001b[0m     \u001b[0mword\u001b[0m\u001b[0;34m:\u001b[0m \u001b[0;34m(\u001b[0m\u001b[0;36m1\u001b[0m \u001b[0;34m+\u001b[0m \u001b[0mmath\u001b[0m\u001b[0;34m.\u001b[0m\u001b[0mlog\u001b[0m\u001b[0;34m(\u001b[0m\u001b[0m_tf\u001b[0m\u001b[0;34m,\u001b[0m \u001b[0;36m2\u001b[0m\u001b[0;34m)\u001b[0m\u001b[0;34m)\u001b[0m \u001b[0;34m*\u001b[0m \u001b[0midf\u001b[0m\u001b[0;34m[\u001b[0m\u001b[0mword\u001b[0m\u001b[0;34m]\u001b[0m\u001b[0;34m\u001b[0m\u001b[0;34m\u001b[0m\u001b[0m\n\u001b[0;32m---> 79\u001b[0;31m     \u001b[0;32mfor\u001b[0m \u001b[0mword\u001b[0m\u001b[0;34m,\u001b[0m \u001b[0m_tf\u001b[0m \u001b[0;32min\u001b[0m \u001b[0mCounter\u001b[0m\u001b[0;34m(\u001b[0m\u001b[0mtarget_words\u001b[0m\u001b[0;34m)\u001b[0m\u001b[0;34m.\u001b[0m\u001b[0mitems\u001b[0m\u001b[0;34m(\u001b[0m\u001b[0;34m)\u001b[0m\u001b[0;34m\u001b[0m\u001b[0;34m\u001b[0m\u001b[0m\n\u001b[0m\u001b[1;32m     80\u001b[0m   }\n\u001b[1;32m     81\u001b[0m   \u001b[0mnum_words\u001b[0m \u001b[0;34m=\u001b[0m \u001b[0;36m20\u001b[0m\u001b[0;34m\u001b[0m\u001b[0;34m\u001b[0m\u001b[0m\n",
            "\u001b[0;31mKeyError\u001b[0m: 'paralanguage'"
          ]
        }
      ]
    }
  ]
}